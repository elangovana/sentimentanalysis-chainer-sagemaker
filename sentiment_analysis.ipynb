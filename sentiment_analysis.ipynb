{
 "cells": [
  {
   "cell_type": "code",
   "execution_count": null,
   "metadata": {},
   "outputs": [],
   "source": [
    "from sagemaker.chainer import Chainer\n",
    "from sagemaker import get_execution_role\n",
    "import sagemaker\n",
    "role = get_execution_role()\n",
    "\n",
    "bucket_name =\"<bucketname>\"\n",
    "\n",
    "sagemaker_session = sagemaker.Session()"
   ]
  },
  {
   "cell_type": "markdown",
   "metadata": {},
   "source": [
    "This launches the job on a device with no cpu.. hence slow .."
   ]
  },
  {
   "cell_type": "code",
   "execution_count": null,
   "metadata": {
    "collapsed": true
   },
   "outputs": [],
   "source": [
    "chainer_estimator = Chainer(\"main_full_cycle.py\",\n",
    "                            role=role,\n",
    "                        train_instance_type=\"ml.p2.xlarge\",\n",
    "                        train_instance_count=1,\n",
    "                        source_dir=\"custom_chainer\",\n",
    "                        hyperparameters = {'epoch': 20, 'batchsize': 64, 'traindata':'sample.csv'})\n",
    "chainer_estimator.fit({'train': 's3://{}/sample.csv'.format(bucket_name),\n",
    "                   'test': 's3://{}/test.csv'.format(bucket_name)})"
   ]
  },
  {
   "cell_type": "code",
   "execution_count": null,
   "metadata": {},
   "outputs": [],
   "source": [
    "import boto3\n",
    "import tarfile\n",
    "from urllib.parse import urlparse\n",
    "import os\n",
    "\n",
    "def retrieve_output_from_s3(s3_url, output_dir):\n",
    "    \"\"\"\n",
    "    Downloads output artifacts from s3 and extracts them into the given directory.\n",
    "    Args:\n",
    "        s3_url: S3 URL to the output artifacts\n",
    "        output_dir: directory to write artifacts to\n",
    "    \"\"\"\n",
    "    o = urlparse(s3_url)\n",
    "    s3 = boto3.resource('s3')\n",
    "    output_data_path = os.path.join(output_dir)\n",
    "    output_file_name = os.path.join(output_data_path, 'output.tar.gz')\n",
    "    try:\n",
    "        os.makedirs(output_data_path)\n",
    "    except FileExistsError:\n",
    "        pass\n",
    "    s3.Bucket(o.netloc).download_file(o.path.lstrip('/'), output_file_name)\n",
    "    tar = tarfile.open(output_file_name)\n",
    "    tar.extractall(output_data_path)\n",
    "tar.close()"
   ]
  },
  {
   "cell_type": "code",
   "execution_count": null,
   "metadata": {},
   "outputs": [],
   "source": [
    "\n",
    "\n",
    "chainer_training_job = chainer_estimator.latest_training_job.name\n",
    "\n",
    "desc = sagemaker_session.sagemaker_client.describe_training_job(TrainingJobName=chainer_training_job)\n",
    "output_data = desc['ModelArtifacts']['S3ModelArtifacts'].replace('model.tar.gz', 'output.tar.gz')\n",
    "\n",
    "#retrieve_output_from_s3(output_data, 'output/sentiment')"
   ]
  },
  {
   "cell_type": "code",
   "execution_count": null,
   "metadata": {},
   "outputs": [],
   "source": [
    "predictor = chainer_estimator.deploy(initial_instance_count=1, instance_type='ml.m4.xlarge')"
   ]
  }
 ],
 "metadata": {
  "kernelspec": {
   "display_name": "Python 2",
   "language": "python",
   "name": "python2"
  },
  "language_info": {
   "codemirror_mode": {
    "name": "ipython",
    "version": 2
   },
   "file_extension": ".py",
   "mimetype": "text/x-python",
   "name": "python",
   "nbconvert_exporter": "python",
   "pygments_lexer": "ipython2",
   "version": "2.7.6"
  }
 },
 "nbformat": 4,
 "nbformat_minor": 0
}

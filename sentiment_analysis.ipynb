{
 "cells": [
  {
   "cell_type": "code",
   "execution_count": null,
   "metadata": {},
   "outputs": [],
   "source": [
    "from sagemaker.chainer import Chainer\n",
    "from sagemaker import get_execution_role\n",
    "import sagemaker\n",
    "role = get_execution_role()\n",
    "\n",
    "bucket_name =\"<bucketname>\"\n",
    "\n",
    "sagemaker_session = sagemaker.Session()"
   ]
  },
  {
   "cell_type": "markdown",
   "metadata": {},
   "source": [
    "This launches the job on a device with no cpu.. hence slow .."
   ]
  },
  {
   "cell_type": "code",
   "execution_count": null,
   "metadata": {
    "collapsed": true
   },
   "outputs": [],
   "source": [
    "chainer_estimator = Chainer(\"main_full_cycle.py\",\n",
    "                            role=role,\n",
    "                        train_instance_type=\"ml.p3.8xlarge\",\n",
    "                        train_instance_count=1,\n",
    "                        source_dir=\"custom_chainer\",\n",
    "                        hyperparameters = {'epoch': 10, 'batchsize': 50, 'gpu':0, 'traindata':'yelp_reviews.train.shuffled.csv', 'testdata':'yelp_reviews.test.shuffled.csv'\n",
    "                                          ,'pretrained-embed':'glove.6B.300d.txt'})\n",
    "\n",
    "chainer_estimator.fit({'train': 's3://{}/yelp_reviews.train.shuffled.csv'.format(bucket_name),\n",
    "                   'test': 's3://{}/yelp_reviews.test.shuffled.csv'.format(bucket_name)\n",
    "                      , 'PRETRAINEDEMBED' : 's3://{}/glove.6B.300d.txt'.format(bucket_name) })"
   ]
  },
  {
   "cell_type": "code",
   "execution_count": null,
   "metadata": {},
   "outputs": [],
   "source": [
    "import boto3\n",
    "from urllib.parse import urlparse\n",
    "\n",
    "def rename_object(s3_source_url, s3_destination_url):      \n",
    "    s = urlparse(s3_source_url)\n",
    "    d = urlparse(s3_destination_url)\n",
    "    s3 = boto3.resource('s3')\n",
    "    s3.Object(d.netloc, d.path.lstrip('/')).copy_from(CopySource=s.netloc+s.path)"
   ]
  },
  {
   "cell_type": "code",
   "execution_count": null,
   "metadata": {},
   "outputs": [],
   "source": [
    "chainer_training_job = chainer_estimator.latest_training_job.name\n",
    "desc = sagemaker_session.sagemaker_client.describe_training_job(TrainingJobName=chainer_training_job)\n",
    "model_data = desc['ModelArtifacts']['S3ModelArtifacts'] #.replace('model.tar.gz', 'output.tar.gz')\n",
    "output_data = model_data.replace('model.tar.gz', 'output.tar.gz')\n",
    "\n",
    "rename_object(output_data, model_data)\n",
    "#retrieve_output_from_s3(output_data, 'output/sentiment')"
   ]
  },
  {
   "cell_type": "code",
   "execution_count": null,
   "metadata": {},
   "outputs": [],
   "source": [
    "predictor = chainer_estimator.deploy(initial_instance_count=1, instance_type='ml.m4.xlarge')"
   ]
  }
 ],
 "metadata": {
  "kernelspec": {
   "display_name": "Python 2",
   "language": "python",
   "name": "python2"
  },
  "language_info": {
   "codemirror_mode": {
    "name": "ipython",
    "version": 2
   },
   "file_extension": ".py",
   "mimetype": "text/x-python",
   "name": "python",
   "nbconvert_exporter": "python",
   "pygments_lexer": "ipython2",
   "version": "2.7.6"
  }
 },
 "nbformat": 4,
 "nbformat_minor": 0
}

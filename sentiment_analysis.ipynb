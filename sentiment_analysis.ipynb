{
 "cells": [
  {
   "cell_type": "code",
   "execution_count": null,
   "metadata": {},
   "outputs": [],
   "source": [
    "from sagemaker.chainer import Chainer"
   ]
  },
  {
   "cell_type": "code",
   "execution_count": null,
   "metadata": {
    "collapsed": true
   },
   "outputs": [],
   "source": [
    "chainer_estimator = Chainer(\"train.py\",\n",
    "                        train_instance_type=\"ml.p3.2xlarge\",\n",
    "                        train_instance_count=1,\n",
    "                        source_dir=\"custom_chainer\",\n",
    "                        hyperparameters = {'epoch': 20, 'batchsize': 64})\n",
    "chainer_estimator.fit({'train': 's3://my-data-bucket/path/to/my/training/data',\n",
    "                   'test': 's3://my-data-bucket/path/to/my/test/data'})"
   ]
  }
 ],
 "metadata": {
  "kernelspec": {
   "display_name": "Python 2",
   "language": "python",
   "name": "python2"
  },
  "language_info": {
   "codemirror_mode": {
    "name": "ipython",
    "version": 2
   },
   "file_extension": ".py",
   "mimetype": "text/x-python",
   "name": "python",
   "nbconvert_exporter": "python",
   "pygments_lexer": "ipython2",
   "version": "2.7.6"
  }
 },
 "nbformat": 4,
 "nbformat_minor": 0
}
